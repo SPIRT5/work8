{
  "nbformat": 4,
  "nbformat_minor": 0,
  "metadata": {
    "colab": {
      "provenance": [],
      "authorship_tag": "ABX9TyMbzFCORWcPt29yqQ6lA1ES",
      "include_colab_link": true
    },
    "kernelspec": {
      "name": "python3",
      "display_name": "Python 3"
    },
    "language_info": {
      "name": "python"
    }
  },
  "cells": [
    {
      "cell_type": "markdown",
      "metadata": {
        "id": "view-in-github",
        "colab_type": "text"
      },
      "source": [
        "<a href=\"https://colab.research.google.com/github/SPIRT5/work8/blob/main/Untitled6.ipynb\" target=\"_parent\"><img src=\"https://colab.research.google.com/assets/colab-badge.svg\" alt=\"Open In Colab\"/></a>"
      ]
    },
    {
      "cell_type": "markdown",
      "source": [
        "Даны значения величины заработной платы заемщиков банка (zp) и значения их поведенческого кредитного скоринга (ks): zp = [35, 45, 190, 200, 40, 70, 54, 150, 120, 110], ks = [401, 574, 874, 919, 459, 739, 653, 902, 746, 832]. Найдите ковариацию этих двух величин с помощью элементарных действий, а затем с помощью функции cov из numpy Полученные значения должны быть равны. Найдите коэффициент корреляции Пирсона с помощью ковариации и среднеквадратичных отклонений двух признаков, а затем с использованием функций из библиотек numpy и pandas."
      ],
      "metadata": {
        "id": "90dBz_j0Gb4N"
      }
    },
    {
      "cell_type": "code",
      "execution_count": 1,
      "metadata": {
        "colab": {
          "base_uri": "https://localhost:8080/"
        },
        "id": "4szYAWBDGIIa",
        "outputId": "2f56d95d-77e1-4491-d651-748d03e447ba"
      },
      "outputs": [
        {
          "output_type": "execute_result",
          "data": {
            "text/plain": [
              "(9157.84, 9157.84, 0.8874900920739162, 0.8874900920739162, 0.8874900920739162)"
            ]
          },
          "metadata": {},
          "execution_count": 1
        }
      ],
      "source": [
        "import numpy as np\n",
        "import pandas as pd\n",
        "\n",
        "# Данные\n",
        "zp = [35, 45, 190, 200, 40, 70, 54, 150, 120, 110]\n",
        "ks = [401, 574, 874, 919, 459, 739, 653, 902, 746, 832]\n",
        "\n",
        "# Шаг 1: Ковариация вручную\n",
        "n = len(zp)\n",
        "mean_zp = np.mean(zp)\n",
        "mean_ks = np.mean(ks)\n",
        "\n",
        "cov_manual = sum((zp[i] - mean_zp) * (ks[i] - mean_ks) for i in range(n)) / n\n",
        "\n",
        "# Шаг 2: Ковариация с использованием numpy\n",
        "cov_matrix = np.cov(zp, ks, ddof=0)\n",
        "cov_numpy = cov_matrix[0, 1]\n",
        "\n",
        "# Шаг 3: Коэффициент корреляции Пирсона вручную\n",
        "std_zp = np.std(zp)\n",
        "std_ks = np.std(ks)\n",
        "\n",
        "correlation_manual = cov_manual / (std_zp * std_ks)\n",
        "\n",
        "# Шаг 4: Коэффициент корреляции Пирсона с использованием numpy и pandas\n",
        "correlation_numpy = np.corrcoef(zp, ks)[0, 1]\n",
        "correlation_pandas = pd.Series(zp).corr(pd.Series(ks))\n",
        "\n",
        "cov_manual, cov_numpy, correlation_manual, correlation_numpy, correlation_pandas\n"
      ]
    },
    {
      "cell_type": "markdown",
      "source": [
        "Измерены значения IQ выборки студентов, обучающихся в местных технических вузах: 131, 125, 115, 122, 131, 115, 107, 99, 125, 111. Известно, что в генеральной совокупности IQ распределен нормально. Найдите доверительный интервал для математического ожидания с надежностью 0.95."
      ],
      "metadata": {
        "id": "AMee-UMXGasM"
      }
    },
    {
      "cell_type": "code",
      "source": [
        "import numpy as np\n",
        "import scipy.stats as stats\n",
        "\n",
        "# Данные выборки\n",
        "iq = np.array([131, 125, 115, 122, 131, 115, 107, 99, 125, 111])\n",
        "\n",
        "# Параметры выборки\n",
        "iq_mean = np.mean(iq)\n",
        "iq_std = np.std(iq, ddof=1)\n",
        "n = len(iq)\n",
        "confidence_level = 0.95\n",
        "degrees_freedom = n - 1\n",
        "\n",
        "# Критическое значение t для заданного уровня надежности\n",
        "t_critical = stats.t.ppf((1 + confidence_level) / 2, degrees_freedom)\n",
        "\n",
        "# Ошибка среднего (SE)\n",
        "se = iq_std / np.sqrt(n)\n",
        "\n",
        "# Границы доверительного интервала\n",
        "margin_of_error = t_critical * se\n",
        "ci_lower = iq_mean - margin_of_error\n",
        "ci_upper = iq_mean + margin_of_error\n",
        "\n",
        "ci_lower, ci_upper\n"
      ],
      "metadata": {
        "colab": {
          "base_uri": "https://localhost:8080/"
        },
        "id": "732m4CC5VQN4",
        "outputId": "3c9fbde7-81bb-44b7-f74b-d77999174a11"
      },
      "execution_count": 2,
      "outputs": [
        {
          "output_type": "execute_result",
          "data": {
            "text/plain": [
              "(110.55608365158724, 125.64391634841274)"
            ]
          },
          "metadata": {},
          "execution_count": 2
        }
      ]
    },
    {
      "cell_type": "markdown",
      "source": [
        "Известно, что рост футболистов в сборной распределен нормально с дисперсией генеральной совокупности, равной 25 кв.см. Объем выборки равен 27, среднее выборочное составляет 174.2. Найдите доверительный интервал для математического ожидания с надежностью 0.95."
      ],
      "metadata": {
        "id": "o4qnPZhzViB1"
      }
    },
    {
      "cell_type": "code",
      "source": [
        "# Данные\n",
        "population_variance = 25\n",
        "n = 27\n",
        "sample_mean = 174.2\n",
        "confidence_level = 0.95\n",
        "\n",
        "# Стандартное отклонение генеральной совокупности\n",
        "population_std = np.sqrt(population_variance)\n",
        "\n",
        "# Критическое значение z для заданного уровня надежности\n",
        "z_critical = stats.norm.ppf((1 + confidence_level) / 2)\n",
        "\n",
        "# Ошибка среднего (SE)\n",
        "se = population_std / np.sqrt(n)\n",
        "\n",
        "# Границы доверительного интервала\n",
        "margin_of_error = z_critical * se\n",
        "ci_lower = sample_mean - margin_of_error\n",
        "ci_upper = sample_mean + margin_of_error\n",
        "\n",
        "ci_lower, ci_upper\n"
      ],
      "metadata": {
        "colab": {
          "base_uri": "https://localhost:8080/"
        },
        "id": "zM4f81QKVjWW",
        "outputId": "52f22d66-20bf-4acd-b008-0e4ddf5bb362"
      },
      "execution_count": 3,
      "outputs": [
        {
          "output_type": "execute_result",
          "data": {
            "text/plain": [
              "(172.3140237765397, 176.08597622346028)"
            ]
          },
          "metadata": {},
          "execution_count": 3
        }
      ]
    }
  ]
}